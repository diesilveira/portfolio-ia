{
  "nbformat": 4,
  "nbformat_minor": 0,
  "metadata": {
    "colab": {
      "provenance": []
    },
    "kernelspec": {
      "name": "python3",
      "display_name": "Python 3"
    },
    "language_info": {
      "name": "python"
    }
  },
  "cells": [
    {
      "cell_type": "code",
      "execution_count": null,
      "metadata": {
        "colab": {
          "base_uri": "https://localhost:8080/"
        },
        "id": "ap9osa_eaTYz",
        "outputId": "e62ccdaa-5480-4c7a-d111-13be1239f202"
      },
      "outputs": [
        {
          "output_type": "stream",
          "name": "stdout",
          "text": [
            "Collecting ucimlrepo\n",
            "  Downloading ucimlrepo-0.0.7-py3-none-any.whl.metadata (5.5 kB)\n",
            "Requirement already satisfied: pandas>=1.0.0 in /usr/local/lib/python3.12/dist-packages (from ucimlrepo) (2.2.2)\n",
            "Requirement already satisfied: certifi>=2020.12.5 in /usr/local/lib/python3.12/dist-packages (from ucimlrepo) (2025.8.3)\n",
            "Requirement already satisfied: numpy>=1.26.0 in /usr/local/lib/python3.12/dist-packages (from pandas>=1.0.0->ucimlrepo) (2.0.2)\n",
            "Requirement already satisfied: python-dateutil>=2.8.2 in /usr/local/lib/python3.12/dist-packages (from pandas>=1.0.0->ucimlrepo) (2.9.0.post0)\n",
            "Requirement already satisfied: pytz>=2020.1 in /usr/local/lib/python3.12/dist-packages (from pandas>=1.0.0->ucimlrepo) (2025.2)\n",
            "Requirement already satisfied: tzdata>=2022.7 in /usr/local/lib/python3.12/dist-packages (from pandas>=1.0.0->ucimlrepo) (2025.2)\n",
            "Requirement already satisfied: six>=1.5 in /usr/local/lib/python3.12/dist-packages (from python-dateutil>=2.8.2->pandas>=1.0.0->ucimlrepo) (1.17.0)\n",
            "Downloading ucimlrepo-0.0.7-py3-none-any.whl (8.0 kB)\n",
            "Installing collected packages: ucimlrepo\n",
            "Successfully installed ucimlrepo-0.0.7\n"
          ]
        }
      ],
      "source": [
        "!pip install ucimlrepo"
      ]
    },
    {
      "cell_type": "code",
      "source": [
        "# Importar librerías que vamos a usar\n",
        "import pandas as pd\n",
        "import numpy as np\n",
        "import matplotlib.pyplot as plt\n",
        "\n",
        "# Para validación y selección de modelos\n",
        "from sklearn.linear_model import LogisticRegression, RidgeClassifier\n",
        "from sklearn.ensemble import RandomForestClassifier\n",
        "from sklearn.model_selection import train_test_split, cross_val_score, KFold, StratifiedKFold\n",
        "from sklearn.preprocessing import StandardScaler\n",
        "from sklearn.pipeline import Pipeline\n",
        "# Para cargar datos desde UCI ML Repository\n",
        "from ucimlrepo import fetch_ucirepo\n",
        "from sklearn.metrics import accuracy_score, classification_report\n",
        "\n",
        "print(\"Setup completo!\")"
      ],
      "metadata": {
        "colab": {
          "base_uri": "https://localhost:8080/"
        },
        "id": "xgUR5fGSacjm",
        "outputId": "0b440482-2b06-4dc6-e941-e9ca834952b7"
      },
      "execution_count": null,
      "outputs": [
        {
          "output_type": "stream",
          "name": "stdout",
          "text": [
            "Setup completo!\n"
          ]
        }
      ]
    },
    {
      "cell_type": "code",
      "source": [
        "# Cargar dataset de estudiantes desde UCI\n",
        "student_data = fetch_ucirepo(id=697)\n",
        "\n",
        "# Preparar datos\n",
        "X = student_data.data.features\n",
        "y = student_data.data.targets\n",
        "\n",
        "print(\"Dataset: Student Dropout and Academic Success\")\n",
        "print(f\"Estudiantes: {X.shape[0]}, Características: {X.shape[1]}\")\n",
        "print(f\"Objetivo: Predecir {len(y.columns)} variable(s)\")\n",
        "\n",
        "# Explorar variable objetivo\n",
        "target_col = y.columns[0]  # Primera columna objetivo\n",
        "y_series = y[target_col]\n",
        "print(f\"\\nVariable objetivo: {target_col}\")\n",
        "\n",
        "# Mapear valores para mejor interpretación\n",
        "target_mapping = {'Dropout' : 0, 'Enrolled' : 1, 'Graduate' : 2}\n",
        "y_mapped = y_series.map(target_mapping)\n",
        "\n",
        "# Distribución de clases\n",
        "print(\"\\nDistribución de resultados académicos:\")\n",
        "value_counts = y_mapped.value_counts()\n",
        "for outcome, count in value_counts.items():\n",
        "    percentage = (count / len(y_mapped)) * 100\n",
        "    print(f\"  {outcome}: {count} estudiantes ({percentage:.1f}%)\")\n",
        "\n",
        "# Ver algunas características\n",
        "print(f\"\\nPrimeras características:\")\n",
        "print(X.columns.tolist()[:10], \"...\")\n",
        "\n",
        "# Estadísticas básicas\n",
        "print(f\"\\nAge at enrollment:\")\n",
        "if 'Age at enrollment' in X.columns:\n",
        "    age_col = X['Age at enrollment']\n",
        "    print(f\"  Promedio: {age_col.mean():.1f} años\")\n",
        "    print(f\"  Rango: {age_col.min():.0f}-{age_col.max():.0f} años\")"
      ],
      "metadata": {
        "colab": {
          "base_uri": "https://localhost:8080/"
        },
        "id": "Me_N-WyWdhXB",
        "outputId": "6148ada0-fb2f-40c8-da57-424dcc70b847"
      },
      "execution_count": null,
      "outputs": [
        {
          "output_type": "stream",
          "name": "stdout",
          "text": [
            "Dataset: Student Dropout and Academic Success\n",
            "Estudiantes: 4424, Características: 36\n",
            "Objetivo: Predecir 1 variable(s)\n",
            "\n",
            "Variable objetivo: Target\n",
            "\n",
            "Distribución de resultados académicos:\n",
            "  2: 2209 estudiantes (49.9%)\n",
            "  0: 1421 estudiantes (32.1%)\n",
            "  1: 794 estudiantes (17.9%)\n",
            "\n",
            "Primeras características:\n",
            "['Marital Status', 'Application mode', 'Application order', 'Course', 'Daytime/evening attendance', 'Previous qualification', 'Previous qualification (grade)', 'Nacionality', \"Mother's qualification\", \"Father's qualification\"] ...\n",
            "\n",
            "Age at enrollment:\n",
            "  Promedio: 23.3 años\n",
            "  Rango: 17-70 años\n"
          ]
        }
      ]
    },
    {
      "cell_type": "code",
      "source": [
        "# Preparar variable objetivo como serie simple\n",
        "# Convertir strings a números para sklearn\n",
        "target_mapping = {0: 'Dropout', 1: 'Enrolled', 2: 'Graduate'}\n",
        "reverse_mapping = {'Dropout': 0, 'Enrolled': 1, 'Graduate': 2}\n",
        "\n",
        "# Si y_series contiene strings, convertir a números\n",
        "if y_series.dtype == 'object':\n",
        "    y_target = y_series.map(reverse_mapping)\n",
        "else:\n",
        "    y_target = y_series\n",
        "\n",
        "X_features = X       # Features del dataset\n",
        "\n",
        "print(\"Datos preparados para validación:\")\n",
        "print(f\"X shape: {X_features.shape}\")\n",
        "print(f\"y shape: {y_target.shape}\")\n",
        "print(f\"Clases únicas: {sorted(y_target.unique())}\")\n",
        "print(f\"Mapeo: {target_mapping}\")"
      ],
      "metadata": {
        "colab": {
          "base_uri": "https://localhost:8080/"
        },
        "id": "lnQuT-O8eKHL",
        "outputId": "dbef8cd4-37a6-47b3-e53f-5e1e73348752"
      },
      "execution_count": null,
      "outputs": [
        {
          "output_type": "stream",
          "name": "stdout",
          "text": [
            "Datos preparados para validación:\n",
            "X shape: (4424, 36)\n",
            "y shape: (4424,)\n",
            "Clases únicas: [np.int64(0), np.int64(1), np.int64(2)]\n",
            "Mapeo: {0: 'Dropout', 1: 'Enrolled', 2: 'Graduate'}\n"
          ]
        }
      ]
    },
    {
      "cell_type": "code",
      "source": [
        "# === VALIDACIÓN CRUZADA PARA ESTABILIDAD ===\n",
        "\n",
        "print(\"🔬 VALIDACIÓN CRUZADA: ¿Qué tan estable es nuestro modelo?\")\n",
        "\n",
        "# 1. Crear pipeline robusto para usar en CV\n",
        "pipeline_robust = Pipeline([\n",
        "    ('scaler', StandardScaler()),\n",
        "    ('classifier', RidgeClassifier(max_iter=1000, random_state=42))\n",
        "])\n",
        "\n",
        "print(\"Pipeline creado para validación cruzada\")"
      ],
      "metadata": {
        "colab": {
          "base_uri": "https://localhost:8080/"
        },
        "id": "BRALaXcleSU8",
        "outputId": "6b6c9491-7481-4cb1-8904-be1519f12358"
      },
      "execution_count": null,
      "outputs": [
        {
          "output_type": "stream",
          "name": "stdout",
          "text": [
            "🔬 VALIDACIÓN CRUZADA: ¿Qué tan estable es nuestro modelo?\n",
            "Pipeline creado para validación cruzada\n"
          ]
        }
      ]
    },
    {
      "cell_type": "code",
      "source": [
        "# 2. Crear KFold básico\n",
        "kfold = KFold(n_splits=5, shuffle=True, random_state=42)\n",
        "\n",
        "# 3. Evaluar con KFold usando cross_val_score\n",
        "scores_kfold = cross_val_score(\n",
        "    pipeline_robust, X_features, y_target, cv=kfold, scoring='accuracy'\n",
        ")\n",
        "\n",
        "print(f\"\\nKFOLD RESULTS:\")\n",
        "print(f\"   Scores individuales: {scores_kfold}\")\n",
        "print(f\"   Media: {scores_kfold.mean():.4f}\")\n",
        "print(f\"   Desviación estándar: {scores_kfold.std():.4f}\")\n",
        "print(f\"   Resultado: {scores_kfold.mean():.4f} ± {scores_kfold.std():.4f}\")"
      ],
      "metadata": {
        "colab": {
          "base_uri": "https://localhost:8080/"
        },
        "id": "S1j6nvv-e5nC",
        "outputId": "79e4979c-ccf2-4583-f19d-e231f3939bbd"
      },
      "execution_count": null,
      "outputs": [
        {
          "output_type": "stream",
          "name": "stdout",
          "text": [
            "\n",
            "KFOLD RESULTS:\n",
            "   Scores individuales: [0.74237288 0.74463277 0.75480226 0.76158192 0.76470588]\n",
            "   Media: 0.7536\n",
            "   Desviación estándar: 0.0089\n",
            "   Resultado: 0.7536 ± 0.0089\n"
          ]
        }
      ]
    },
    {
      "cell_type": "code",
      "source": [
        "# 4. Crear StratifiedKFold (mantiene proporción de clases)\n",
        "stratified_kfold = StratifiedKFold(n_splits=5, shuffle=True, random_state=42)\n",
        "\n",
        "# 5. Evaluar con StratifiedKFold\n",
        "scores_stratified = cross_val_score(\n",
        "    pipeline_robust, X_features, y_target, cv=stratified_kfold, scoring='accuracy'\n",
        ")\n",
        "\n",
        "print(f\"\\nSTRATIFIED KFOLD RESULTS:\")\n",
        "print(f\"   Scores individuales: {scores_stratified}\")\n",
        "print(f\"   Media: {scores_stratified.mean():.4f}\")\n",
        "print(f\"   Desviación estándar: {scores_stratified.std():.4f}\")\n",
        "print(f\"   Resultado: {scores_stratified.mean():.4f} ± {scores_stratified.std():.4f}\")\n"
      ],
      "metadata": {
        "colab": {
          "base_uri": "https://localhost:8080/"
        },
        "id": "g26EA_TVfLU5",
        "outputId": "6607b6ae-921d-4eba-a878-4a5a24e6ef87"
      },
      "execution_count": null,
      "outputs": [
        {
          "output_type": "stream",
          "name": "stdout",
          "text": [
            "\n",
            "STRATIFIED KFOLD RESULTS:\n",
            "   Scores individuales: [0.75480226 0.74576271 0.75367232 0.74915254 0.75113122]\n",
            "   Media: 0.7509\n",
            "   Desviación estándar: 0.0032\n",
            "   Resultado: 0.7509 ± 0.0032\n"
          ]
        }
      ]
    },
    {
      "cell_type": "code",
      "source": [
        "# 6. Comparar estabilidad (menor desviación = más estable)\n",
        "print(f\"\\nCOMPARACIÓN DE ESTABILIDAD:\")\n",
        "if scores_stratified.std() < scores_kfold.std():\n",
        "    print(\"   StratifiedKFold es MÁS ESTABLE (menor variabilidad)\")\n",
        "    mejor_cv = \"StratifiedKFold\"\n",
        "else:\n",
        "    print(\"   KFold es MÁS ESTABLE (menor variabilidad)\")\n",
        "    mejor_cv = \"KFold\"\n",
        "\n",
        "print(f\"   Recomendación: Usar {mejor_cv} para este dataset\")"
      ],
      "metadata": {
        "colab": {
          "base_uri": "https://localhost:8080/"
        },
        "id": "rOtz7ktFfayd",
        "outputId": "f248d2b1-8288-4055-c14b-27102a959cab"
      },
      "execution_count": null,
      "outputs": [
        {
          "output_type": "stream",
          "name": "stdout",
          "text": [
            "\n",
            "COMPARACIÓN DE ESTABILIDAD:\n",
            "   StratifiedKFold es MÁS ESTABLE (menor variabilidad)\n",
            "   Recomendación: Usar StratifiedKFold para este dataset\n"
          ]
        }
      ]
    },
    {
      "cell_type": "code",
      "source": [
        "# 7. Visualizar la distribución de scores\n",
        "import matplotlib.pyplot as plt\n",
        "plt.figure(figsize=(10, 6))\n",
        "plt.boxplot([scores_kfold, scores_stratified], labels=['KFold', 'StratifiedKFold'])\n",
        "plt.title('Distribución de Scores - Validación Cruzada')\n",
        "plt.ylabel('Accuracy')\n",
        "plt.grid(True, alpha=0.3)\n",
        "plt.show()"
      ],
      "metadata": {
        "colab": {
          "base_uri": "https://localhost:8080/",
          "height": 601
        },
        "id": "L328gWI-ffku",
        "outputId": "81176f3b-399b-4fdf-ec60-477bd962140e"
      },
      "execution_count": null,
      "outputs": [
        {
          "output_type": "stream",
          "name": "stderr",
          "text": [
            "/tmp/ipython-input-590054951.py:4: MatplotlibDeprecationWarning: The 'labels' parameter of boxplot() has been renamed 'tick_labels' since Matplotlib 3.9; support for the old name will be dropped in 3.11.\n",
            "  plt.boxplot([scores_kfold, scores_stratified], labels=['KFold', 'StratifiedKFold'])\n"
          ]
        },
        {
          "output_type": "display_data",
          "data": {
            "text/plain": [
              "<Figure size 1000x600 with 1 Axes>"
            ],
            "image/png": "[encoded data removed]"
          },
          "metadata": {}
        }
      ]
    },
    {
      "cell_type": "code",
      "source": [
        "# === COMPETENCIA DE MODELOS ===\n",
        "\n",
        "print(\"🏆 TORNEO: ¿Cuál modelo funciona mejor para diagnóstico médico?\")\n",
        "\n",
        "# 1. Definir candidatos (diferentes algoritmos)\n",
        "models = {\n",
        "    'Logistic Regression':Pipeline([\n",
        "        ('scaler', StandardScaler()),\n",
        "        ('classifier', LogisticRegression(max_iter=1000, random_state=42))\n",
        "    ]),\n",
        "\n",
        "    # 2. Ridge Classifier (regresión logística con regularización L2)\n",
        "    'Ridge Classifier': Pipeline([\n",
        "        ('scaler', StandardScaler()),\n",
        "        ('classifier', RidgeClassifier(alpha=1.0, random_state=42))\n",
        "    ]),\n",
        "\n",
        "    # 3. Random Forest (ensemble, no necesita escalado)\n",
        "    'Random Forest': Pipeline([\n",
        "        ('classifier', RandomForestClassifier(n_estimators=100, random_state=42))\n",
        "    ])\n",
        "}\n",
        "\n",
        "print(f\"Modelos en competencia: {list(models.keys())}\")"
      ],
      "metadata": {
        "colab": {
          "base_uri": "https://localhost:8080/"
        },
        "id": "imnWtX_KgDxq",
        "outputId": "bd102c72-43f9-4087-c59b-a2bf900b1756"
      },
      "execution_count": null,
      "outputs": [
        {
          "output_type": "stream",
          "name": "stdout",
          "text": [
            "🏆 TORNEO: ¿Cuál modelo funciona mejor para diagnóstico médico?\n",
            "Modelos en competencia: ['Logistic Regression', 'Ridge Classifier', 'Random Forest']\n"
          ]
        }
      ]
    },
    {
      "cell_type": "code",
      "source": [
        "# 4. Evaluar cada modelo con validación cruzada\n",
        "print(f\"\\nEVALUANDO MODELOS CON 5-FOLD CV...\")\n",
        "\n",
        "results = {}\n",
        "for name, model in models.items():\n",
        "    print(f\"   Evaluando {name}...\")\n",
        "\n",
        "    # Usar StratifiedKFold para mantener balance de clases\n",
        "    scores = cross_val_score(\n",
        "        model, X_features, y_target,\n",
        "        cv=StratifiedKFold(n_splits=5, shuffle=True, random_state=42),\n",
        "        scoring='f1_weighted'\n",
        "    )\n",
        "\n",
        "    results[name] = scores\n",
        "\n",
        "    print(f\"   {name}: {scores.mean():.4f} ± {scores.std():.4f}\")\n",
        "    print(f\"      Scores: {[f'{s:.3f}' for s in scores]}\")"
      ],
      "metadata": {
        "colab": {
          "base_uri": "https://localhost:8080/"
        },
        "id": "gIVJxrkvgq_2",
        "outputId": "672d258e-3900-4d66-b60b-83a4d1e9ff10"
      },
      "execution_count": null,
      "outputs": [
        {
          "output_type": "stream",
          "name": "stdout",
          "text": [
            "\n",
            "EVALUANDO MODELOS CON 5-FOLD CV...\n",
            "   Evaluando Logistic Regression...\n",
            "   Logistic Regression: 0.7442 ± 0.0071\n",
            "      Scores: ['0.748', '0.756', '0.743', '0.735', '0.740']\n",
            "   Evaluando Ridge Classifier...\n",
            "   Ridge Classifier: 0.7096 ± 0.0047\n",
            "      Scores: ['0.716', '0.707', '0.708', '0.703', '0.714']\n",
            "   Evaluando Random Forest...\n",
            "   Random Forest: 0.7494 ± 0.0041\n",
            "      Scores: ['0.755', '0.750', '0.753', '0.745', '0.744']\n"
          ]
        }
      ]
    },
    {
      "cell_type": "code",
      "source": [
        "# 5. Encontrar el mejor modelo\n",
        "print(f\"\\nRESULTADOS FINALES:\")\n",
        "\n",
        "# Encontrar modelo con mayor accuracy promedio\n",
        "best_mean_score = 0\n",
        "best_model_name = \"\"\n",
        "\n",
        "for name, scores in results.items():\n",
        "    if scores.mean() > best_mean_score:\n",
        "        best_mean_score = scores.mean()\n",
        "        best_model_name = name\n",
        "\n",
        "print(f\"GANADOR: {best_model_name}\")\n",
        "print(f\"Score: {best_mean_score:.4f}\")\n",
        "\n",
        "# 6. Análisis detallado de estabilidad\n",
        "print(f\"\\nANÁLISIS DE ESTABILIDAD:\")\n",
        "for name, scores in results.items():\n",
        "    stability = scores.std()\n",
        "\n",
        "    if stability < 0.02:\n",
        "        status = \"MUY ESTABLE\"\n",
        "    elif stability < 0.05:\n",
        "        status = \"ESTABLE\"\n",
        "    else:\n",
        "        status = \"INESTABLE\"\n",
        "\n",
        "    print(f\"   {name}: {status} (std: {stability:.4f})\")"
      ],
      "metadata": {
        "colab": {
          "base_uri": "https://localhost:8080/"
        },
        "id": "7V4TRnK-rC45",
        "outputId": "4db81abc-cf27-412d-c3b4-9730fe89ff3e"
      },
      "execution_count": null,
      "outputs": [
        {
          "output_type": "stream",
          "name": "stdout",
          "text": [
            "\n",
            "RESULTADOS FINALES:\n",
            "GANADOR: Random Forest\n",
            "Score: 0.7494\n",
            "\n",
            "ANÁLISIS DE ESTABILIDAD:\n",
            "   Logistic Regression: MUY ESTABLE (std: 0.0071)\n",
            "   Ridge Classifier: MUY ESTABLE (std: 0.0047)\n",
            "   Random Forest: MUY ESTABLE (std: 0.0041)\n"
          ]
        }
      ]
    },
    {
      "cell_type": "code",
      "source": [
        "# 7. Visualización comparativa\n",
        "plt.figure(figsize=(12, 6))\n",
        "\n",
        "# Boxplot de distribución de scores\n",
        "plt.subplot(1, 2, 1)\n",
        "plt.boxplot([results[name] for name in models.keys()],\n",
        "           labels=[name.split()[0] for name in models.keys()])\n",
        "plt.title('Distribución de Accuracy por Modelo')\n",
        "plt.ylabel('Accuracy')\n",
        "plt.grid(True, alpha=0.3)\n",
        "\n",
        "# Barplot de medias con error bars\n",
        "plt.subplot(1, 2, 2)\n",
        "names = list(models.keys())\n",
        "means = [results[name].mean() for name in names]\n",
        "stds = [results[name].std() for name in names]\n",
        "\n",
        "plt.bar(range(len(names)), means, yerr=stds, capsize=5)\n",
        "plt.xticks(range(len(names)), [name.split()[0] for name in names])\n",
        "plt.title('Accuracy Promedio ± Desviación Estándar')\n",
        "plt.ylabel('Accuracy')\n",
        "plt.grid(True, alpha=0.3)\n",
        "\n",
        "plt.tight_layout()\n",
        "plt.show()"
      ],
      "metadata": {
        "colab": {
          "base_uri": "https://localhost:8080/",
          "height": 662
        },
        "id": "-DTVZ5jFrY-9",
        "outputId": "3109afdf-9916-4745-9f8d-a004aca68d75"
      },
      "execution_count": null,
      "outputs": [
        {
          "output_type": "stream",
          "name": "stderr",
          "text": [
            "/tmp/ipython-input-3124341795.py:6: MatplotlibDeprecationWarning: The 'labels' parameter of boxplot() has been renamed 'tick_labels' since Matplotlib 3.9; support for the old name will be dropped in 3.11.\n",
            "  plt.boxplot([results[name] for name in models.keys()],\n"
          ]
        },
        {
          "output_type": "display_data",
          "data": {
            "text/plain": [
              "<Figure size 1200x600 with 2 Axes>"
            ],
            "image/png": "[encoded data removed]"
          },
          "metadata": {}
        }
      ]
    }
  ]
}